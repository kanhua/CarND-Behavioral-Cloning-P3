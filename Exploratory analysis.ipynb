{
 "cells": [
  {
   "cell_type": "code",
   "execution_count": 23,
   "metadata": {
    "collapsed": false,
    "deletable": true,
    "editable": true
   },
   "outputs": [
    {
     "name": "stdout",
     "output_type": "stream",
     "text": [
      "The autoreload extension is already loaded. To reload it, use:\n",
      "  %reload_ext autoreload\n"
     ]
    }
   ],
   "source": [
    "%load_ext autoreload\n",
    "%autoreload 2\n",
    "%matplotlib inline\n",
    "import numpy as np\n",
    "import pandas as pd\n",
    "import matplotlib.pyplot as plt\n",
    "from nvidia_model import load_multi_dataset,filter_dataset,filter_dataset_2nd_pass\n",
    "import cv2"
   ]
  },
  {
   "cell_type": "code",
   "execution_count": 24,
   "metadata": {
    "collapsed": true,
    "deletable": true,
    "editable": true
   },
   "outputs": [],
   "source": [
    "train_dataset_folder = [\"track1_new_1/\",\"track1_rec_1/\",\n",
    "                        \"track2_7\",\"track2_8\",\"track2_9\",\n",
    "                        \"track2_rec_5\",\"track2_rec_6\",\"track2_rec_8\"]"
   ]
  },
  {
   "cell_type": "code",
   "execution_count": 25,
   "metadata": {
    "collapsed": false,
    "deletable": true,
    "editable": true
   },
   "outputs": [],
   "source": [
    "log_df=load_multi_dataset(train_dataset_folder)"
   ]
  },
  {
   "cell_type": "code",
   "execution_count": 26,
   "metadata": {
    "collapsed": false,
    "deletable": true,
    "editable": true
   },
   "outputs": [
    {
     "data": {
      "text/html": [
       "<div>\n",
       "<table border=\"1\" class=\"dataframe\">\n",
       "  <thead>\n",
       "    <tr style=\"text-align: right;\">\n",
       "      <th></th>\n",
       "      <th>center</th>\n",
       "      <th>left</th>\n",
       "      <th>right</th>\n",
       "      <th>steering</th>\n",
       "      <th>throttle</th>\n",
       "      <th>brake</th>\n",
       "      <th>speed</th>\n",
       "    </tr>\n",
       "  </thead>\n",
       "  <tbody>\n",
       "    <tr>\n",
       "      <th>0</th>\n",
       "      <td>./data/track1_new_1/IMG/center_2017_03_19_21_4...</td>\n",
       "      <td>./data/track1_new_1/IMG/left_2017_03_19_21_48_...</td>\n",
       "      <td>./data/track1_new_1/IMG/right_2017_03_19_21_48...</td>\n",
       "      <td>0.0</td>\n",
       "      <td>0.0</td>\n",
       "      <td>0.0</td>\n",
       "      <td>4.044739</td>\n",
       "    </tr>\n",
       "    <tr>\n",
       "      <th>1</th>\n",
       "      <td>./data/track1_new_1/IMG/center_2017_03_19_21_4...</td>\n",
       "      <td>./data/track1_new_1/IMG/left_2017_03_19_21_48_...</td>\n",
       "      <td>./data/track1_new_1/IMG/right_2017_03_19_21_48...</td>\n",
       "      <td>0.0</td>\n",
       "      <td>0.0</td>\n",
       "      <td>0.0</td>\n",
       "      <td>4.012237</td>\n",
       "    </tr>\n",
       "    <tr>\n",
       "      <th>2</th>\n",
       "      <td>./data/track1_new_1/IMG/center_2017_03_19_21_4...</td>\n",
       "      <td>./data/track1_new_1/IMG/left_2017_03_19_21_48_...</td>\n",
       "      <td>./data/track1_new_1/IMG/right_2017_03_19_21_48...</td>\n",
       "      <td>0.0</td>\n",
       "      <td>0.0</td>\n",
       "      <td>0.0</td>\n",
       "      <td>3.979996</td>\n",
       "    </tr>\n",
       "    <tr>\n",
       "      <th>3</th>\n",
       "      <td>./data/track1_new_1/IMG/center_2017_03_19_21_4...</td>\n",
       "      <td>./data/track1_new_1/IMG/left_2017_03_19_21_48_...</td>\n",
       "      <td>./data/track1_new_1/IMG/right_2017_03_19_21_48...</td>\n",
       "      <td>0.0</td>\n",
       "      <td>0.0</td>\n",
       "      <td>0.0</td>\n",
       "      <td>3.948015</td>\n",
       "    </tr>\n",
       "    <tr>\n",
       "      <th>4</th>\n",
       "      <td>./data/track1_new_1/IMG/center_2017_03_19_21_4...</td>\n",
       "      <td>./data/track1_new_1/IMG/left_2017_03_19_21_48_...</td>\n",
       "      <td>./data/track1_new_1/IMG/right_2017_03_19_21_48...</td>\n",
       "      <td>0.0</td>\n",
       "      <td>0.0</td>\n",
       "      <td>0.0</td>\n",
       "      <td>3.916291</td>\n",
       "    </tr>\n",
       "  </tbody>\n",
       "</table>\n",
       "</div>"
      ],
      "text/plain": [
       "                                              center  \\\n",
       "0  ./data/track1_new_1/IMG/center_2017_03_19_21_4...   \n",
       "1  ./data/track1_new_1/IMG/center_2017_03_19_21_4...   \n",
       "2  ./data/track1_new_1/IMG/center_2017_03_19_21_4...   \n",
       "3  ./data/track1_new_1/IMG/center_2017_03_19_21_4...   \n",
       "4  ./data/track1_new_1/IMG/center_2017_03_19_21_4...   \n",
       "\n",
       "                                                left  \\\n",
       "0  ./data/track1_new_1/IMG/left_2017_03_19_21_48_...   \n",
       "1  ./data/track1_new_1/IMG/left_2017_03_19_21_48_...   \n",
       "2  ./data/track1_new_1/IMG/left_2017_03_19_21_48_...   \n",
       "3  ./data/track1_new_1/IMG/left_2017_03_19_21_48_...   \n",
       "4  ./data/track1_new_1/IMG/left_2017_03_19_21_48_...   \n",
       "\n",
       "                                               right  steering  throttle  \\\n",
       "0  ./data/track1_new_1/IMG/right_2017_03_19_21_48...       0.0       0.0   \n",
       "1  ./data/track1_new_1/IMG/right_2017_03_19_21_48...       0.0       0.0   \n",
       "2  ./data/track1_new_1/IMG/right_2017_03_19_21_48...       0.0       0.0   \n",
       "3  ./data/track1_new_1/IMG/right_2017_03_19_21_48...       0.0       0.0   \n",
       "4  ./data/track1_new_1/IMG/right_2017_03_19_21_48...       0.0       0.0   \n",
       "\n",
       "   brake     speed  \n",
       "0    0.0  4.044739  \n",
       "1    0.0  4.012237  \n",
       "2    0.0  3.979996  \n",
       "3    0.0  3.948015  \n",
       "4    0.0  3.916291  "
      ]
     },
     "execution_count": 26,
     "metadata": {},
     "output_type": "execute_result"
    }
   ],
   "source": [
    "log_df.head()"
   ]
  },
  {
   "cell_type": "code",
   "execution_count": 27,
   "metadata": {
    "collapsed": false,
    "deletable": true,
    "editable": true
   },
   "outputs": [
    {
     "data": {
      "text/plain": [
       "(29149, 7)"
      ]
     },
     "execution_count": 27,
     "metadata": {},
     "output_type": "execute_result"
    }
   ],
   "source": [
    "log_df.shape"
   ]
  },
  {
   "cell_type": "code",
   "execution_count": 28,
   "metadata": {
    "collapsed": false,
    "deletable": true,
    "editable": true,
    "scrolled": true
   },
   "outputs": [
    {
     "data": {
      "image/png": "[encoded data removed]",
      "text/plain": [
       "<matplotlib.figure.Figure at 0x11dbce160>"
      ]
     },
     "metadata": {},
     "output_type": "display_data"
    }
   ],
   "source": [
    "plt.hist(log_df['steering'],bins=100)\n",
    "plt.xlabel(\"steering\")\n",
    "plt.savefig(\"\")\n",
    "plt.show()"
   ]
  },
  {
   "cell_type": "markdown",
   "metadata": {
    "deletable": true,
    "editable": true
   },
   "source": [
    "## Histograms after filtering"
   ]
  },
  {
   "cell_type": "code",
   "execution_count": 29,
   "metadata": {
    "collapsed": false,
    "deletable": true,
    "editable": true
   },
   "outputs": [
    {
     "data": {
      "image/png": "[encoded data removed]",
      "text/plain": [
       "<matplotlib.figure.Figure at 0x11e179d68>"
      ]
     },
     "metadata": {},
     "output_type": "display_data"
    }
   ],
   "source": [
    "filtered_log_df=filter_dataset(log_df,portion=100)\n",
    "plt.hist(filtered_log_df[\"steering\"],bins=100)\n",
    "plt.xlabel(\"steering\")\n",
    "plt.savefig(\"./data_figs/hist_1st_pass.png\")\n",
    "plt.show()"
   ]
  },
  {
   "cell_type": "code",
   "execution_count": 30,
   "metadata": {
    "collapsed": false,
    "deletable": true,
    "editable": true
   },
   "outputs": [
    {
     "data": {
      "image/png": "[encoded data removed]",
      "text/plain": [
       "<matplotlib.figure.Figure at 0x11cfbfb00>"
      ]
     },
     "metadata": {},
     "output_type": "display_data"
    }
   ],
   "source": [
    "n_filtered_log_df=filter_dataset_2nd_pass(filtered_log_df,portion=2)\n",
    "plt.hist(n_filtered_log_df[\"steering\"],bins=100)\n",
    "plt.xlabel(\"steering\")\n",
    "plt.savefig(\"./data_figs/hist_2nd_pass.png\")\n",
    "plt.show()"
   ]
  },
  {
   "cell_type": "code",
   "execution_count": 25,
   "metadata": {
    "collapsed": false,
    "deletable": true,
    "editable": true
   },
   "outputs": [
    {
     "data": {
      "text/plain": [
       "16239"
      ]
     },
     "execution_count": 25,
     "metadata": {},
     "output_type": "execute_result"
    }
   ],
   "source": [
    "n_filtered_log_df.shape[0]"
   ]
  },
  {
   "cell_type": "code",
   "execution_count": 8,
   "metadata": {
    "collapsed": true,
    "deletable": true,
    "editable": true
   },
   "outputs": [],
   "source": [
    "train_dataset_folder = [\"official_baseline/\",\"trip1_off_recover\",\n",
    "                        \"track2_7\",\n",
    "                        \"track2_rec_1\",\"track2_rec_2\",\"track2_rec_3\"]"
   ]
  },
  {
   "cell_type": "code",
   "execution_count": null,
   "metadata": {
    "collapsed": true,
    "deletable": true,
    "editable": true
   },
   "outputs": [],
   "source": [
    "log_df=load_multi_dataset(train_dataset_folder)"
   ]
  },
  {
   "cell_type": "code",
   "execution_count": null,
   "metadata": {
    "collapsed": false,
    "deletable": true,
    "editable": true
   },
   "outputs": [],
   "source": [
    "plt.hist(log_df[\"steering\"],bins=100)\n",
    "plt.show()"
   ]
  },
  {
   "cell_type": "code",
   "execution_count": null,
   "metadata": {
    "collapsed": false,
    "deletable": true,
    "editable": true
   },
   "outputs": [],
   "source": [
    "f_log_df=filter_dataset(log_df)\n",
    "print(f_log_df.shape[0])"
   ]
  },
  {
   "cell_type": "code",
   "execution_count": null,
   "metadata": {
    "collapsed": false,
    "deletable": true,
    "editable": true
   },
   "outputs": [],
   "source": [
    "plt.hist(f_log_df[\"steering\"],bins=100)\n",
    "plt.show()"
   ]
  },
  {
   "cell_type": "code",
   "execution_count": null,
   "metadata": {
    "collapsed": true,
    "deletable": true,
    "editable": true
   },
   "outputs": [],
   "source": [
    "## Show a couple of images"
   ]
  },
  {
   "cell_type": "code",
   "execution_count": null,
   "metadata": {
    "collapsed": false,
    "deletable": true,
    "editable": true
   },
   "outputs": [],
   "source": [
    "import cv2\n",
    "import os\n",
    "img_dir='./sample behavioral cloning data/'\n",
    "\n",
    "rand_idx=np.random.randint(log_df.shape[0])\n",
    "\n",
    "c_file=log_df.iloc[rand_idx,:]['center']\n",
    "print(c_file)\n",
    "img=cv2.imread(os.path.join(img_dir,c_file))\n",
    "plt.imshow(img)\n",
    "\n",
    "print(img.shape)\n",
    "print(\"The dimension of images:%s,%s, %s\"%img.shape)"
   ]
  },
  {
   "cell_type": "markdown",
   "metadata": {
    "collapsed": true,
    "deletable": true,
    "editable": true
   },
   "source": [
    "### Resize the image"
   ]
  },
  {
   "cell_type": "code",
   "execution_count": null,
   "metadata": {
    "collapsed": true,
    "deletable": true,
    "editable": true
   },
   "outputs": [],
   "source": [
    "import tensorflow as tf"
   ]
  },
  {
   "cell_type": "code",
   "execution_count": null,
   "metadata": {
    "collapsed": false,
    "deletable": true,
    "editable": true
   },
   "outputs": [],
   "source": [
    "p_ch, p_row, p_col = 3, 224, 224\n",
    "#p_ch, p_row, p_col = 3, 160, 320\n",
    "img_placeholder = tf.placeholder(\"uint8\", (None, 160, 320, 3))\n",
    "single_img_placeholder=tf.placeholder(\"uint8\",(160,320,3))\n",
    "resize_op = tf.image.resize_image_with_crop_or_pad(single_img_placeholder, p_row, p_col)"
   ]
  },
  {
   "cell_type": "code",
   "execution_count": null,
   "metadata": {
    "collapsed": false,
    "deletable": true,
    "editable": true
   },
   "outputs": [],
   "source": [
    "sample_image_file='./sample behavioral cloning data/IMG/center_2016_12_01_13_30_48_287.jpg'\n",
    "img=np.zeros((1,160,320,3))\n",
    "temp_img=cv2.imread(sample_image_file)\n",
    "img[0]=temp_img\n",
    "plt.imshow(temp_img)\n",
    "img=img.astype('uint8')"
   ]
  },
  {
   "cell_type": "code",
   "execution_count": null,
   "metadata": {
    "collapsed": false,
    "deletable": true,
    "editable": true
   },
   "outputs": [],
   "source": [
    "plt.imshow(img[0])"
   ]
  },
  {
   "cell_type": "code",
   "execution_count": null,
   "metadata": {
    "collapsed": false,
    "deletable": true,
    "editable": true
   },
   "outputs": [],
   "source": [
    "with tf.Session() as sess:\n",
    "    resized_img=sess.run(resize_op,feed_dict={img_placeholder:img})\n",
    "    plt.imshow(resized_img[0])"
   ]
  },
  {
   "cell_type": "code",
   "execution_count": null,
   "metadata": {
    "collapsed": false,
    "deletable": true,
    "editable": true
   },
   "outputs": [],
   "source": [
    "with tf.Session() as sess:\n",
    "    resized_img=sess.run(resize_op,feed_dict={single_img_placeholder:temp_img})\n",
    "    plt.imshow(resized_img)"
   ]
  },
  {
   "cell_type": "markdown",
   "metadata": {
    "collapsed": false,
    "deletable": true,
    "editable": true
   },
   "source": [
    "### Resize the image and keep the ratio"
   ]
  },
  {
   "cell_type": "code",
   "execution_count": null,
   "metadata": {
    "collapsed": true,
    "deletable": true,
    "editable": true
   },
   "outputs": [],
   "source": [
    "p_ch, p_row, p_col = 3, 80, 160\n",
    "img_placeholder = tf.placeholder(\"uint8\", (None, 160, 320, 3))\n",
    "resize_op = tf.image.resize_images(img_placeholder, (p_row, p_col), method=0)"
   ]
  },
  {
   "cell_type": "code",
   "execution_count": null,
   "metadata": {
    "collapsed": false,
    "deletable": true,
    "editable": true
   },
   "outputs": [],
   "source": [
    "with tf.Session() as sess:\n",
    "    resized_img=sess.run(resize_op,feed_dict={img_placeholder:img})"
   ]
  },
  {
   "cell_type": "code",
   "execution_count": null,
   "metadata": {
    "collapsed": false,
    "deletable": true,
    "editable": true
   },
   "outputs": [],
   "source": [
    "plt.imshow(resized_img[0].astype('uint8'))"
   ]
  },
  {
   "cell_type": "code",
   "execution_count": null,
   "metadata": {
    "collapsed": true,
    "deletable": true,
    "editable": true
   },
   "outputs": [],
   "source": []
  }
 ],
 "metadata": {
  "kernelspec": {
   "display_name": "Python 3",
   "language": "python",
   "name": "python3"
  },
  "language_info": {
   "codemirror_mode": {
    "name": "ipython",
    "version": 3
   },
   "file_extension": ".py",
   "mimetype": "text/x-python",
   "name": "python",
   "nbconvert_exporter": "python",
   "pygments_lexer": "ipython3",
   "version": "3.5.2"
  },
  "widgets": {
   "state": {},
   "version": "1.1.2"
  }
 },
 "nbformat": 4,
 "nbformat_minor": 0
}
